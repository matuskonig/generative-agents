{
 "cells": [
  {
   "cell_type": "code",
   "execution_count": 1,
   "metadata": {},
   "outputs": [],
   "source": [
    "import pydantic\n",
    "import abc"
   ]
  },
  {
   "cell_type": "code",
   "execution_count": 2,
   "metadata": {},
   "outputs": [
    {
     "name": "stdout",
     "output_type": "stream",
     "text": [
      "{'properties': {}, 'title': 'A', 'type': 'object'}\n",
      "{'properties': {'first_name': {'title': 'First Name', 'type': 'string'}, 'second_name': {'title': 'Second Name', 'type': 'string'}}, 'required': ['first_name', 'second_name'], 'title': 'B', 'type': 'object'}\n"
     ]
    }
   ],
   "source": [
    "class A(pydantic.BaseModel, abc.ABC):\n",
    "    @abc.abstractmethod\n",
    "    def name(self):\n",
    "        pass\n",
    "\n",
    "\n",
    "class B(A):\n",
    "    first_name: str\n",
    "    second_name: str\n",
    "\n",
    "    def name(self):\n",
    "        return self.first_name + \" \" + self.second_name\n",
    "    \n",
    "print(A.model_json_schema())\n",
    "print(B.model_json_schema())\n"
   ]
  },
  {
   "cell_type": "code",
   "execution_count": 3,
   "metadata": {},
   "outputs": [],
   "source": [
    "import generative_multiagents"
   ]
  },
  {
   "cell_type": "code",
   "execution_count": 4,
   "metadata": {},
   "outputs": [
    {
     "data": {
      "text/plain": [
       "{'properties': {}, 'title': 'AgentModelBase', 'type': 'object'}"
      ]
     },
     "execution_count": 4,
     "metadata": {},
     "output_type": "execute_result"
    }
   ],
   "source": [
    "generative_multiagents.AgentModelBase.model_json_schema()"
   ]
  }
 ],
 "metadata": {
  "kernelspec": {
   "display_name": "venv",
   "language": "python",
   "name": "python3"
  },
  "language_info": {
   "codemirror_mode": {
    "name": "ipython",
    "version": 3
   },
   "file_extension": ".py",
   "mimetype": "text/x-python",
   "name": "python",
   "nbconvert_exporter": "python",
   "pygments_lexer": "ipython3",
   "version": "3.12.8"
  }
 },
 "nbformat": 4,
 "nbformat_minor": 2
}
